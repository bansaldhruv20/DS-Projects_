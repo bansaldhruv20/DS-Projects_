{
  "nbformat": 4,
  "nbformat_minor": 0,
  "metadata": {
    "colab": {
      "provenance": [],
      "authorship_tag": "ABX9TyNH5EO37HOT0pa3vg8rbIwz"
    },
    "kernelspec": {
      "name": "python3",
      "display_name": "Python 3"
    },
    "language_info": {
      "name": "python"
    }
  },
  "cells": [
    {
      "cell_type": "code",
      "execution_count": null,
      "metadata": {
        "id": "GM3a7kmnBV0q"
      },
      "outputs": [],
      "source": [
        "import numpy as np\n",
        "import pandas as pd\n",
        "import matplotlib.pyplot as plt\n",
        "import seaborn as sb\n",
        "\n",
        "from sklearn.preprocessing import LabelEncoder\n",
        "from sklearn.model_selection import train_test_split\n",
        "\n",
        "import cv2\n",
        "import tensorflow as tf\n",
        "from tensorflow import keras\n",
        "from keras import layers\n",
        "from functools import partial\n",
        "\n",
        "import warnings\n",
        "warnings.filterwarnings('ignore')\n",
        "AUTO = tf.data.experimental.AUTOTUNE"
      ]
    },
    {
      "cell_type": "code",
      "source": [
        "from zipfile import ZipFile\n",
        "data_path = 'dog-breed-identification.zip'\n",
        "\n",
        "with ZipFile(data_path, 'r') as zip:\n",
        "    zip.extractall()\n",
        "    print('The data set has been extracted.')"
      ],
      "metadata": {
        "id": "2tpu3fQCIcaA"
      },
      "execution_count": null,
      "outputs": []
    },
    {
      "cell_type": "code",
      "source": [
        "df = pd.read_csv('labels.csv')\n",
        "df.head()\n",
        "df.shape\n",
        "df['breed'].nunique()"
      ],
      "metadata": {
        "id": "5elMfdQGIdbR"
      },
      "execution_count": null,
      "outputs": []
    },
    {
      "cell_type": "code",
      "source": [
        "plt.figure(figsize=(10, 5))\n",
        "df['breed'].value_counts().plot.bar()\n",
        "plt.axis('off')\n",
        "plt.show()"
      ],
      "metadata": {
        "id": "Py5Ht_hQIjIg"
      },
      "execution_count": null,
      "outputs": []
    },
    {
      "cell_type": "code",
      "source": [
        "df['filepath'] = 'train/' + df['id'] + '.jpg'\n",
        "df.head()"
      ],
      "metadata": {
        "id": "0YJO9Ct7IsWK"
      },
      "execution_count": null,
      "outputs": []
    },
    {
      "cell_type": "code",
      "source": [
        "plt.subplots(figsize=(10, 10))\n",
        "for i in range(12):\n",
        "    plt.subplot(4, 3, i+1)\n",
        "    k = np.random.randint(0, len(df))\n",
        "    img = cv2.imread(df.loc[k, 'filepath'])\n",
        "    plt.imshow(img)\n",
        "    plt.title(df.loc[k, 'breed'])\n",
        "    plt.axis('off')\n",
        "plt.show()"
      ],
      "metadata": {
        "id": "qoLawarTIx3a"
      },
      "execution_count": null,
      "outputs": []
    },
    {
      "cell_type": "code",
      "source": [
        "le = LabelEncoder()\n",
        "df['breed'] = le.fit_transform(df['breed'])\n",
        "df.head()"
      ],
      "metadata": {
        "id": "fHEH8tX7I1Cx"
      },
      "execution_count": null,
      "outputs": []
    },
    {
      "cell_type": "code",
      "source": [
        "features = df['filepath']\n",
        "target = df['breed']\n",
        "\n",
        "X_train, X_val,\\\n",
        "    Y_train, Y_val = train_test_split(features, target,\n",
        "                                      test_size=0.15,\n",
        "                                      random_state=10)\n",
        "\n",
        "X_train.shape, X_val.shape"
      ],
      "metadata": {
        "id": "oZ5gi2ALI3q6"
      },
      "execution_count": null,
      "outputs": []
    },
    {
      "cell_type": "code",
      "source": [
        "import albumentations as A\n",
        "\n",
        "transforms_train = A.Compose([\n",
        "    A.VerticalFlip(p=0.2),\n",
        "    A.HorizontalFlip(p=0.7),\n",
        "    A.CoarseDropout(p=0.5),\n",
        "    A.RandomGamma(p=0.5),\n",
        "    A.RandomBrightnessContrast(p=1)\n",
        "])"
      ],
      "metadata": {
        "id": "9yNDZuqDI6ec"
      },
      "execution_count": null,
      "outputs": []
    },
    {
      "cell_type": "code",
      "source": [
        "img = cv2.imread('train/00792e341f3c6eb33663e415d0715370.jpg')\n",
        "plt.imshow(img)\n",
        "plt.show()"
      ],
      "metadata": {
        "id": "FCTyrU8jJC2B"
      },
      "execution_count": null,
      "outputs": []
    },
    {
      "cell_type": "code",
      "source": [
        "augments = [A.VerticalFlip(p=1), A.HorizontalFlip(p=1),\n",
        "            A.CoarseDropout(p=1), A.CLAHE(p=1)]\n",
        "\n",
        "plt.subplots(figsize=(10, 10))\n",
        "for i, aug in enumerate(augments):\n",
        "    plt.subplot(2, 2, i+1)\n",
        "    aug_img = aug(image=img)['image']\n",
        "    plt.imshow(aug_img)\n",
        "plt.show()"
      ],
      "metadata": {
        "id": "FrVAw25nJEXn"
      },
      "execution_count": null,
      "outputs": []
    },
    {
      "cell_type": "code",
      "source": [
        "def aug_fn(img):\n",
        "    aug_data = transforms_train(image=img)\n",
        "    aug_img = aug_data['image']\n",
        "\n",
        "    return aug_img\n",
        "\n",
        "\n",
        "@tf.function\n",
        "def process_data(img, label):\n",
        "    aug_img = tf.numpy_function(aug_fn,\n",
        "                                [img],\n",
        "                                Tout=tf.float32)\n",
        "\n",
        "    return img, label\n",
        "\n",
        "\n",
        "def decode_image(filepath, label=None):\n",
        "\n",
        "    img = tf.io.read_file(filepath)\n",
        "    img = tf.image.decode_jpeg(img)\n",
        "    img = tf.image.resize(img, [128, 128])\n",
        "    img = tf.cast(img, tf.float32) / 255.0\n",
        "\n",
        "    if label == None:\n",
        "        return img\n",
        "\n",
        "    return img, tf.one_hot(indices=label,\n",
        "                           depth=120,\n",
        "                           dtype=tf.float32)"
      ],
      "metadata": {
        "id": "uOWH6k8jJIlg"
      },
      "execution_count": null,
      "outputs": []
    },
    {
      "cell_type": "code",
      "source": [
        "train_ds = (\n",
        "    tf.data.Dataset\n",
        "    .from_tensor_slices((X_train, Y_train))\n",
        "    .map(decode_image, num_parallel_calls=AUTO)\n",
        "    .map(partial(process_data), num_parallel_calls=AUTO)\n",
        "    .batch(32)\n",
        "    .prefetch(AUTO)\n",
        ")\n",
        "\n",
        "val_ds = (\n",
        "    tf.data.Dataset\n",
        "    .from_tensor_slices((X_val, Y_val))\n",
        "    .map(decode_image, num_parallel_calls=AUTO)\n",
        "    .batch(32)\n",
        "    .prefetch(AUTO)\n",
        ")"
      ],
      "metadata": {
        "id": "HetVo5XIJKkS"
      },
      "execution_count": null,
      "outputs": []
    },
    {
      "cell_type": "code",
      "source": [
        "for img, label in train_ds.take(1):\n",
        "  print(img.shape, label.shape)"
      ],
      "metadata": {
        "id": "6xEqlnLjJMEf"
      },
      "execution_count": null,
      "outputs": []
    },
    {
      "cell_type": "code",
      "source": [
        "from tensorflow.keras.applications.inception_v3 import InceptionV3\n",
        "\n",
        "pre_trained_model = InceptionV3(\n",
        "    input_shape=(128, 128, 3),\n",
        "    weights='imagenet',\n",
        "    include_top=False\n",
        ")"
      ],
      "metadata": {
        "id": "cqRvyM4IJNdm"
      },
      "execution_count": null,
      "outputs": []
    },
    {
      "cell_type": "code",
      "source": [
        "len(pre_trained_model.layers)"
      ],
      "metadata": {
        "id": "wPlJxILmJO-d"
      },
      "execution_count": null,
      "outputs": []
    },
    {
      "cell_type": "code",
      "source": [
        "for layer in pre_trained_model.layers:\n",
        "  layer.trainable = False\n",
        "\n",
        "last_layer = pre_trained_model.get_layer('mixed7')\n",
        "print('last layer output shape: ', last_layer.output_shape)\n",
        "last_output = last_layer.output"
      ],
      "metadata": {
        "id": "XJICmrrEJQlA"
      },
      "execution_count": null,
      "outputs": []
    },
    {
      "cell_type": "code",
      "source": [
        "# Model Architecture\n",
        "x = layers.Flatten()(last_output)\n",
        "x = layers.Dense(256, activation='relu')(x)\n",
        "x = layers.BatchNormalization()(x)\n",
        "x = layers.Dense(256, activation='relu')(x)\n",
        "x = layers.Dropout(0.3)(x)\n",
        "x = layers.BatchNormalization()(x)\n",
        "output = layers.Dense(120, activation='softmax')(x)\n",
        "\n",
        "model = keras.Model(pre_trained_model.input, output)\n",
        "\n",
        "# Model Compilation\n",
        "model.compile(\n",
        "    optimizer='adam',\n",
        "    loss=keras.losses.CategoricalCrossentropy(from_logits=True),\n",
        "    metrics=['AUC']\n",
        ")"
      ],
      "metadata": {
        "id": "8eE3UZB3JSnL"
      },
      "execution_count": null,
      "outputs": []
    },
    {
      "cell_type": "code",
      "source": [
        "from keras.callbacks import EarlyStopping, ReduceLROnPlateau\n",
        "\n",
        "class myCallback(tf.keras.callbacks.Callback):\n",
        "    def on_epoch_end(self, epoch, logs={}):\n",
        "        if logs.get('val_auc') > 0.99:\n",
        "            print('\\n Validation accuracy has reached upto 90%\\\n",
        "      so, stopping further training.')\n",
        "            self.model.stop_training = True\n",
        "\n",
        "es = EarlyStopping(patience=3,\n",
        "                   monitor='val_auc',\n",
        "                   restore_best_weights=True)\n",
        "\n",
        "lr = ReduceLROnPlateau(monitor='val_loss',\n",
        "                       patience=2,\n",
        "                       factor=0.5,\n",
        "                       verbose=1)"
      ],
      "metadata": {
        "id": "GKDpJdL8JV0v"
      },
      "execution_count": null,
      "outputs": []
    },
    {
      "cell_type": "code",
      "source": [
        "history = model.fit(train_ds,\n",
        "                    validation_data=val_ds,\n",
        "                    epochs=50,\n",
        "                    verbose=1,\n",
        "                    callbacks=[es, lr, myCallback()])"
      ],
      "metadata": {
        "id": "1VsMv0J2JXRg"
      },
      "execution_count": null,
      "outputs": []
    },
    {
      "cell_type": "code",
      "source": [
        "history_df = pd.DataFrame(history.history)\n",
        "history_df.loc[:, ['loss', 'val_loss']].plot()\n",
        "history_df.loc[:, ['auc', 'val_auc']].plot()\n",
        "plt.show()"
      ],
      "metadata": {
        "id": "ZRIwAlCeJYnz"
      },
      "execution_count": null,
      "outputs": []
    }
  ]
}